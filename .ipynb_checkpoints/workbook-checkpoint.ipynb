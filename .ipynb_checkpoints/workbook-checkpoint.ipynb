{
 "cells": [
  {
   "cell_type": "code",
   "execution_count": 1,
   "id": "723f7fe7-7fd1-464a-bae0-c946fd6f3041",
   "metadata": {},
   "outputs": [],
   "source": [
    "import numpy as np \n",
    "import pandas as pd \n",
    "import matplotlib.pyplot as plt \n",
    "import pickle\n"
   ]
  },
  {
   "cell_type": "code",
   "execution_count": 2,
   "id": "1b935ad5-6fd9-47c8-bd55-988a7d1a37c6",
   "metadata": {},
   "outputs": [],
   "source": [
    "url = \"datasets/titanic_data.csv\"\n",
    "data = pd.read_csv(url)"
   ]
  },
  {
   "cell_type": "code",
   "execution_count": 3,
   "id": "cdeaad99-d8a7-4460-a402-67206a9f0068",
   "metadata": {},
   "outputs": [
    {
     "data": {
      "text/html": [
       "<div>\n",
       "<style scoped>\n",
       "    .dataframe tbody tr th:only-of-type {\n",
       "        vertical-align: middle;\n",
       "    }\n",
       "\n",
       "    .dataframe tbody tr th {\n",
       "        vertical-align: top;\n",
       "    }\n",
       "\n",
       "    .dataframe thead th {\n",
       "        text-align: right;\n",
       "    }\n",
       "</style>\n",
       "<table border=\"1\" class=\"dataframe\">\n",
       "  <thead>\n",
       "    <tr style=\"text-align: right;\">\n",
       "      <th></th>\n",
       "      <th>PassengerId</th>\n",
       "      <th>Survived</th>\n",
       "      <th>Pclass</th>\n",
       "      <th>Name</th>\n",
       "      <th>Sex</th>\n",
       "      <th>Age</th>\n",
       "      <th>SibSp</th>\n",
       "      <th>Parch</th>\n",
       "      <th>Ticket</th>\n",
       "      <th>Fare</th>\n",
       "      <th>Cabin</th>\n",
       "      <th>Embarked</th>\n",
       "    </tr>\n",
       "  </thead>\n",
       "  <tbody>\n",
       "    <tr>\n",
       "      <th>0</th>\n",
       "      <td>1</td>\n",
       "      <td>0</td>\n",
       "      <td>3</td>\n",
       "      <td>Braund, Mr. Owen Harris</td>\n",
       "      <td>male</td>\n",
       "      <td>22.0</td>\n",
       "      <td>1</td>\n",
       "      <td>0</td>\n",
       "      <td>A/5 21171</td>\n",
       "      <td>7.2500</td>\n",
       "      <td>NaN</td>\n",
       "      <td>S</td>\n",
       "    </tr>\n",
       "    <tr>\n",
       "      <th>1</th>\n",
       "      <td>2</td>\n",
       "      <td>1</td>\n",
       "      <td>1</td>\n",
       "      <td>Cumings, Mrs. John Bradley (Florence Briggs Th...</td>\n",
       "      <td>female</td>\n",
       "      <td>38.0</td>\n",
       "      <td>1</td>\n",
       "      <td>0</td>\n",
       "      <td>PC 17599</td>\n",
       "      <td>71.2833</td>\n",
       "      <td>C85</td>\n",
       "      <td>C</td>\n",
       "    </tr>\n",
       "  </tbody>\n",
       "</table>\n",
       "</div>"
      ],
      "text/plain": [
       "   PassengerId  Survived  Pclass  \\\n",
       "0            1         0       3   \n",
       "1            2         1       1   \n",
       "\n",
       "                                                Name     Sex   Age  SibSp  \\\n",
       "0                            Braund, Mr. Owen Harris    male  22.0      1   \n",
       "1  Cumings, Mrs. John Bradley (Florence Briggs Th...  female  38.0      1   \n",
       "\n",
       "   Parch     Ticket     Fare Cabin Embarked  \n",
       "0      0  A/5 21171   7.2500   NaN        S  \n",
       "1      0   PC 17599  71.2833   C85        C  "
      ]
     },
     "execution_count": 3,
     "metadata": {},
     "output_type": "execute_result"
    }
   ],
   "source": [
    "df = data.copy()\n",
    "df.head(2)"
   ]
  },
  {
   "cell_type": "code",
   "execution_count": 4,
   "id": "7ead36eb-2761-4168-9316-c2dcd94ec622",
   "metadata": {},
   "outputs": [
    {
     "data": {
      "text/plain": [
       "Index(['PassengerId', 'Survived', 'Pclass', 'Name', 'Sex', 'Age', 'SibSp',\n",
       "       'Parch', 'Ticket', 'Fare', 'Cabin', 'Embarked'],\n",
       "      dtype='object')"
      ]
     },
     "execution_count": 4,
     "metadata": {},
     "output_type": "execute_result"
    }
   ],
   "source": [
    "df.columns"
   ]
  },
  {
   "cell_type": "code",
   "execution_count": 5,
   "id": "f8b730f5-db78-4b78-8f4f-3e86919dba4e",
   "metadata": {},
   "outputs": [
    {
     "data": {
      "text/plain": [
       "(891, 12)"
      ]
     },
     "execution_count": 5,
     "metadata": {},
     "output_type": "execute_result"
    }
   ],
   "source": [
    "df.shape"
   ]
  },
  {
   "cell_type": "code",
   "execution_count": 6,
   "id": "5945a670-1595-41a2-82ca-4e5a6b9c5364",
   "metadata": {},
   "outputs": [
    {
     "data": {
      "text/html": [
       "<div>\n",
       "<style scoped>\n",
       "    .dataframe tbody tr th:only-of-type {\n",
       "        vertical-align: middle;\n",
       "    }\n",
       "\n",
       "    .dataframe tbody tr th {\n",
       "        vertical-align: top;\n",
       "    }\n",
       "\n",
       "    .dataframe thead th {\n",
       "        text-align: right;\n",
       "    }\n",
       "</style>\n",
       "<table border=\"1\" class=\"dataframe\">\n",
       "  <thead>\n",
       "    <tr style=\"text-align: right;\">\n",
       "      <th></th>\n",
       "      <th>survived</th>\n",
       "      <th>pclass</th>\n",
       "      <th>sex</th>\n",
       "      <th>age</th>\n",
       "      <th>sibsp</th>\n",
       "      <th>parch</th>\n",
       "      <th>fare</th>\n",
       "      <th>embarked</th>\n",
       "      <th>class</th>\n",
       "      <th>who</th>\n",
       "      <th>adult_male</th>\n",
       "      <th>deck</th>\n",
       "      <th>embark_town</th>\n",
       "      <th>alive</th>\n",
       "      <th>alone</th>\n",
       "    </tr>\n",
       "  </thead>\n",
       "  <tbody>\n",
       "    <tr>\n",
       "      <th>889</th>\n",
       "      <td>1</td>\n",
       "      <td>1</td>\n",
       "      <td>male</td>\n",
       "      <td>26.0</td>\n",
       "      <td>0</td>\n",
       "      <td>0</td>\n",
       "      <td>30.00</td>\n",
       "      <td>C</td>\n",
       "      <td>First</td>\n",
       "      <td>man</td>\n",
       "      <td>True</td>\n",
       "      <td>C</td>\n",
       "      <td>Cherbourg</td>\n",
       "      <td>yes</td>\n",
       "      <td>True</td>\n",
       "    </tr>\n",
       "    <tr>\n",
       "      <th>890</th>\n",
       "      <td>0</td>\n",
       "      <td>3</td>\n",
       "      <td>male</td>\n",
       "      <td>32.0</td>\n",
       "      <td>0</td>\n",
       "      <td>0</td>\n",
       "      <td>7.75</td>\n",
       "      <td>Q</td>\n",
       "      <td>Third</td>\n",
       "      <td>man</td>\n",
       "      <td>True</td>\n",
       "      <td>NaN</td>\n",
       "      <td>Queenstown</td>\n",
       "      <td>no</td>\n",
       "      <td>True</td>\n",
       "    </tr>\n",
       "  </tbody>\n",
       "</table>\n",
       "</div>"
      ],
      "text/plain": [
       "     survived  pclass   sex   age  sibsp  parch   fare embarked  class  who  \\\n",
       "889         1       1  male  26.0      0      0  30.00        C  First  man   \n",
       "890         0       3  male  32.0      0      0   7.75        Q  Third  man   \n",
       "\n",
       "     adult_male deck embark_town alive  alone  \n",
       "889        True    C   Cherbourg   yes   True  \n",
       "890        True  NaN  Queenstown    no   True  "
      ]
     },
     "execution_count": 6,
     "metadata": {},
     "output_type": "execute_result"
    }
   ],
   "source": [
    "# file 2\n",
    "df2 = pd.read_csv('./datasets/titanic.csv')\n",
    "df2.tail(2)"
   ]
  },
  {
   "cell_type": "code",
   "execution_count": 7,
   "id": "dea9468a-de6f-467f-b2c7-4d763706acfe",
   "metadata": {},
   "outputs": [
    {
     "data": {
      "text/plain": [
       "(891, 15)"
      ]
     },
     "execution_count": 7,
     "metadata": {},
     "output_type": "execute_result"
    }
   ],
   "source": [
    "df2.shape"
   ]
  },
  {
   "cell_type": "code",
   "execution_count": 8,
   "id": "ca16b5ec-3b43-49bf-b681-901dbcd7e87b",
   "metadata": {},
   "outputs": [
    {
     "data": {
      "text/plain": [
       "Index(['survived', 'pclass', 'sex', 'age', 'sibsp', 'parch', 'fare',\n",
       "       'embarked', 'class', 'who', 'adult_male', 'deck', 'embark_town',\n",
       "       'alive', 'alone'],\n",
       "      dtype='object')"
      ]
     },
     "execution_count": 8,
     "metadata": {},
     "output_type": "execute_result"
    }
   ],
   "source": [
    "df2.columns"
   ]
  },
  {
   "cell_type": "code",
   "execution_count": 9,
   "id": "43ad488f-d610-47e6-81fc-fd93a92e6591",
   "metadata": {},
   "outputs": [
    {
     "name": "stdout",
     "output_type": "stream",
     "text": [
      "<class 'pandas.core.frame.DataFrame'>\n",
      "RangeIndex: 891 entries, 0 to 890\n",
      "Data columns (total 15 columns):\n",
      " #   Column       Non-Null Count  Dtype  \n",
      "---  ------       --------------  -----  \n",
      " 0   survived     891 non-null    int64  \n",
      " 1   pclass       891 non-null    int64  \n",
      " 2   sex          891 non-null    object \n",
      " 3   age          714 non-null    float64\n",
      " 4   sibsp        891 non-null    int64  \n",
      " 5   parch        891 non-null    int64  \n",
      " 6   fare         891 non-null    float64\n",
      " 7   embarked     889 non-null    object \n",
      " 8   class        891 non-null    object \n",
      " 9   who          891 non-null    object \n",
      " 10  adult_male   891 non-null    bool   \n",
      " 11  deck         203 non-null    object \n",
      " 12  embark_town  889 non-null    object \n",
      " 13  alive        891 non-null    object \n",
      " 14  alone        891 non-null    bool   \n",
      "dtypes: bool(2), float64(2), int64(4), object(7)\n",
      "memory usage: 92.4+ KB\n"
     ]
    }
   ],
   "source": [
    "df2.info()"
   ]
  },
  {
   "cell_type": "code",
   "execution_count": 10,
   "id": "6dd485b0-e594-43e9-97f0-36b3f11ba49b",
   "metadata": {},
   "outputs": [],
   "source": [
    "# features of interest "
   ]
  },
  {
   "cell_type": "code",
   "execution_count": 11,
   "id": "369da838-388c-4d17-8e16-b45f7698c513",
   "metadata": {},
   "outputs": [],
   "source": [
    "cols = ['survived', 'pclass', 'sex', 'age', 'sibsp', 'parch', 'fare',\n",
    "       'embarked', 'class', 'who', 'adult_male', 'deck', 'embark_town',\n",
    "       'alive', 'alone']\n",
    "\n",
    "cols_to_keep = ['survived', 'pclass', 'sex', 'age', 'fare', 'embarked', 'class']\n",
    "\n",
    "df2 = df2[cols_to_keep]"
   ]
  },
  {
   "cell_type": "code",
   "execution_count": 12,
   "id": "c2aa6121-34fb-4bad-8767-64daac00cd11",
   "metadata": {},
   "outputs": [
    {
     "data": {
      "text/plain": [
       "survived      int64\n",
       "pclass        int64\n",
       "sex          object\n",
       "age         float64\n",
       "fare        float64\n",
       "embarked     object\n",
       "class        object\n",
       "dtype: object"
      ]
     },
     "execution_count": 12,
     "metadata": {},
     "output_type": "execute_result"
    }
   ],
   "source": [
    "df2.dtypes"
   ]
  },
  {
   "cell_type": "code",
   "execution_count": 13,
   "id": "e88e458b-7bcf-4ec1-8cf0-3f188c436d4c",
   "metadata": {},
   "outputs": [
    {
     "data": {
      "text/plain": [
       "survived      0\n",
       "pclass        0\n",
       "sex           0\n",
       "age         177\n",
       "fare          0\n",
       "embarked      2\n",
       "class         0\n",
       "dtype: int64"
      ]
     },
     "execution_count": 13,
     "metadata": {},
     "output_type": "execute_result"
    }
   ],
   "source": [
    "# remove Nans\n",
    "df2.isnull().sum()"
   ]
  },
  {
   "cell_type": "code",
   "execution_count": 14,
   "id": "27ae222b-d03f-45d4-b256-f753d6a2b290",
   "metadata": {},
   "outputs": [],
   "source": [
    "df2[\"age\"] = df2.age.fillna(df2.age.mean())"
   ]
  },
  {
   "cell_type": "code",
   "execution_count": 15,
   "id": "c8ed1124-24e3-474a-88b0-a9191d513b59",
   "metadata": {},
   "outputs": [
    {
     "name": "stdout",
     "output_type": "stream",
     "text": [
      "<class 'pandas.core.frame.DataFrame'>\n",
      "RangeIndex: 891 entries, 0 to 890\n",
      "Data columns (total 7 columns):\n",
      " #   Column    Non-Null Count  Dtype  \n",
      "---  ------    --------------  -----  \n",
      " 0   survived  891 non-null    int64  \n",
      " 1   pclass    891 non-null    int64  \n",
      " 2   sex       891 non-null    object \n",
      " 3   age       891 non-null    float64\n",
      " 4   fare      891 non-null    float64\n",
      " 5   embarked  889 non-null    object \n",
      " 6   class     891 non-null    object \n",
      "dtypes: float64(2), int64(2), object(3)\n",
      "memory usage: 48.9+ KB\n"
     ]
    }
   ],
   "source": [
    "df2.info()"
   ]
  },
  {
   "cell_type": "code",
   "execution_count": 16,
   "id": "c59a830a-f052-4952-b8ae-917a3f1bd661",
   "metadata": {},
   "outputs": [
    {
     "data": {
      "text/plain": [
       "survived    0\n",
       "pclass      0\n",
       "sex         0\n",
       "age         0\n",
       "fare        0\n",
       "embarked    2\n",
       "class       0\n",
       "dtype: int64"
      ]
     },
     "execution_count": 16,
     "metadata": {},
     "output_type": "execute_result"
    }
   ],
   "source": [
    "df2.isnull().sum()"
   ]
  },
  {
   "cell_type": "code",
   "execution_count": 17,
   "id": "2cc26204-5715-43f5-a579-dca04f7f383e",
   "metadata": {},
   "outputs": [
    {
     "data": {
      "text/plain": [
       "array(['S', 'C', 'Q', nan], dtype=object)"
      ]
     },
     "execution_count": 17,
     "metadata": {},
     "output_type": "execute_result"
    }
   ],
   "source": [
    "df2.embarked.unique()"
   ]
  },
  {
   "cell_type": "code",
   "execution_count": 18,
   "id": "c31fa3d2-dfee-48a5-ae15-1acc53acc6ea",
   "metadata": {},
   "outputs": [],
   "source": [
    "df2.embarked.dropna(inplace=True)"
   ]
  },
  {
   "cell_type": "code",
   "execution_count": 19,
   "id": "1ab48f78-7276-4d6b-8ba9-aebae4bf9434",
   "metadata": {},
   "outputs": [
    {
     "data": {
      "text/html": [
       "<div>\n",
       "<style scoped>\n",
       "    .dataframe tbody tr th:only-of-type {\n",
       "        vertical-align: middle;\n",
       "    }\n",
       "\n",
       "    .dataframe tbody tr th {\n",
       "        vertical-align: top;\n",
       "    }\n",
       "\n",
       "    .dataframe thead th {\n",
       "        text-align: right;\n",
       "    }\n",
       "</style>\n",
       "<table border=\"1\" class=\"dataframe\">\n",
       "  <thead>\n",
       "    <tr style=\"text-align: right;\">\n",
       "      <th></th>\n",
       "      <th>survived</th>\n",
       "      <th>pclass</th>\n",
       "      <th>sex</th>\n",
       "      <th>age</th>\n",
       "      <th>fare</th>\n",
       "      <th>embarked</th>\n",
       "      <th>class</th>\n",
       "    </tr>\n",
       "  </thead>\n",
       "  <tbody>\n",
       "  </tbody>\n",
       "</table>\n",
       "</div>"
      ],
      "text/plain": [
       "Empty DataFrame\n",
       "Columns: [survived, pclass, sex, age, fare, embarked, class]\n",
       "Index: []"
      ]
     },
     "execution_count": 19,
     "metadata": {},
     "output_type": "execute_result"
    }
   ],
   "source": [
    "df2[df2[\"embarked\"] == np.nan]"
   ]
  },
  {
   "cell_type": "code",
   "execution_count": 20,
   "id": "97cce104-0055-4d9e-9cd4-aeb808bcff8b",
   "metadata": {},
   "outputs": [
    {
     "data": {
      "text/html": [
       "<div>\n",
       "<style scoped>\n",
       "    .dataframe tbody tr th:only-of-type {\n",
       "        vertical-align: middle;\n",
       "    }\n",
       "\n",
       "    .dataframe tbody tr th {\n",
       "        vertical-align: top;\n",
       "    }\n",
       "\n",
       "    .dataframe thead th {\n",
       "        text-align: right;\n",
       "    }\n",
       "</style>\n",
       "<table border=\"1\" class=\"dataframe\">\n",
       "  <thead>\n",
       "    <tr style=\"text-align: right;\">\n",
       "      <th></th>\n",
       "      <th>survived</th>\n",
       "      <th>pclass</th>\n",
       "      <th>sex</th>\n",
       "      <th>age</th>\n",
       "      <th>fare</th>\n",
       "      <th>embarked</th>\n",
       "      <th>class</th>\n",
       "    </tr>\n",
       "  </thead>\n",
       "  <tbody>\n",
       "  </tbody>\n",
       "</table>\n",
       "</div>"
      ],
      "text/plain": [
       "Empty DataFrame\n",
       "Columns: [survived, pclass, sex, age, fare, embarked, class]\n",
       "Index: []"
      ]
     },
     "execution_count": 20,
     "metadata": {},
     "output_type": "execute_result"
    }
   ],
   "source": [
    "df2[df2[\"embarked\"] == np.nan]"
   ]
  },
  {
   "cell_type": "code",
   "execution_count": 21,
   "id": "5b0bedfb-8c1c-42b4-93f8-8d2f6df3d3fd",
   "metadata": {},
   "outputs": [],
   "source": [
    "df2=df2.dropna(subset=['embarked'])"
   ]
  },
  {
   "cell_type": "code",
   "execution_count": 22,
   "id": "ba00b22a-c3a1-4f35-9124-6a57c3437273",
   "metadata": {},
   "outputs": [
    {
     "data": {
      "text/plain": [
       "array(['S', 'C', 'Q'], dtype=object)"
      ]
     },
     "execution_count": 22,
     "metadata": {},
     "output_type": "execute_result"
    }
   ],
   "source": [
    "df2.embarked.unique()"
   ]
  },
  {
   "cell_type": "code",
   "execution_count": 23,
   "id": "410b66a7-f76f-43d4-b50b-159c890e5b6c",
   "metadata": {},
   "outputs": [
    {
     "data": {
      "text/html": [
       "<div>\n",
       "<style scoped>\n",
       "    .dataframe tbody tr th:only-of-type {\n",
       "        vertical-align: middle;\n",
       "    }\n",
       "\n",
       "    .dataframe tbody tr th {\n",
       "        vertical-align: top;\n",
       "    }\n",
       "\n",
       "    .dataframe thead th {\n",
       "        text-align: right;\n",
       "    }\n",
       "</style>\n",
       "<table border=\"1\" class=\"dataframe\">\n",
       "  <thead>\n",
       "    <tr style=\"text-align: right;\">\n",
       "      <th></th>\n",
       "      <th>survived</th>\n",
       "      <th>pclass</th>\n",
       "      <th>sex</th>\n",
       "      <th>age</th>\n",
       "      <th>fare</th>\n",
       "      <th>embarked</th>\n",
       "      <th>class</th>\n",
       "    </tr>\n",
       "  </thead>\n",
       "  <tbody>\n",
       "    <tr>\n",
       "      <th>0</th>\n",
       "      <td>0</td>\n",
       "      <td>3</td>\n",
       "      <td>male</td>\n",
       "      <td>22.0</td>\n",
       "      <td>7.2500</td>\n",
       "      <td>S</td>\n",
       "      <td>Third</td>\n",
       "    </tr>\n",
       "    <tr>\n",
       "      <th>1</th>\n",
       "      <td>1</td>\n",
       "      <td>1</td>\n",
       "      <td>female</td>\n",
       "      <td>38.0</td>\n",
       "      <td>71.2833</td>\n",
       "      <td>C</td>\n",
       "      <td>First</td>\n",
       "    </tr>\n",
       "    <tr>\n",
       "      <th>2</th>\n",
       "      <td>1</td>\n",
       "      <td>3</td>\n",
       "      <td>female</td>\n",
       "      <td>26.0</td>\n",
       "      <td>7.9250</td>\n",
       "      <td>S</td>\n",
       "      <td>Third</td>\n",
       "    </tr>\n",
       "  </tbody>\n",
       "</table>\n",
       "</div>"
      ],
      "text/plain": [
       "   survived  pclass     sex   age     fare embarked  class\n",
       "0         0       3    male  22.0   7.2500        S  Third\n",
       "1         1       1  female  38.0  71.2833        C  First\n",
       "2         1       3  female  26.0   7.9250        S  Third"
      ]
     },
     "execution_count": 23,
     "metadata": {},
     "output_type": "execute_result"
    }
   ],
   "source": [
    "df2.head(3)"
   ]
  },
  {
   "cell_type": "code",
   "execution_count": 24,
   "id": "cca403cc-9bdc-4bcc-8213-307f6601d8c2",
   "metadata": {},
   "outputs": [
    {
     "data": {
      "text/plain": [
       "Index(['survived', 'pclass', 'sex', 'age', 'fare', 'embarked', 'class'], dtype='object')"
      ]
     },
     "execution_count": 24,
     "metadata": {},
     "output_type": "execute_result"
    }
   ],
   "source": [
    "df2.columns"
   ]
  },
  {
   "cell_type": "code",
   "execution_count": 25,
   "id": "3c9a58c9-a614-4ace-ac9e-6e26ea43c1da",
   "metadata": {},
   "outputs": [],
   "source": [
    "# train test split "
   ]
  },
  {
   "cell_type": "code",
   "execution_count": 26,
   "id": "4a8e46ec-11bb-4310-86b5-b83390032fa4",
   "metadata": {},
   "outputs": [],
   "source": [
    "X = df2.drop(\"survived\", axis=1)\n",
    "y = df2.survived"
   ]
  },
  {
   "cell_type": "code",
   "execution_count": 27,
   "id": "a54eab29-ccb8-404e-a54e-559a35ed865d",
   "metadata": {},
   "outputs": [],
   "source": [
    "from sklearn.model_selection import train_test_split"
   ]
  },
  {
   "cell_type": "code",
   "execution_count": 28,
   "id": "16c9d74f-adf7-43de-9802-86b7b335c0ba",
   "metadata": {},
   "outputs": [],
   "source": [
    "# Using train_test_split to Split Data into Training and Testing Data\n",
    "X_train, X_test, y_train, y_test = train_test_split(X, y, test_size=0.2, random_state=100, stratify=y)"
   ]
  },
  {
   "cell_type": "code",
   "execution_count": 29,
   "id": "057dab57-2180-4b11-be64-0331dcb7e4fe",
   "metadata": {},
   "outputs": [],
   "source": [
    "# df = pd.DataFrame(y)\n",
    "# print(df.value_counts())"
   ]
  },
  {
   "cell_type": "code",
   "execution_count": 30,
   "id": "41c70bb7-cb72-4aea-86d8-15f635c0a16c",
   "metadata": {},
   "outputs": [
    {
     "data": {
      "text/plain": [
       "survived      int64\n",
       "pclass        int64\n",
       "sex          object\n",
       "age         float64\n",
       "fare        float64\n",
       "embarked     object\n",
       "class        object\n",
       "dtype: object"
      ]
     },
     "execution_count": 30,
     "metadata": {},
     "output_type": "execute_result"
    }
   ],
   "source": [
    "df2.dtypes"
   ]
  },
  {
   "cell_type": "code",
   "execution_count": 31,
   "id": "87423b70-cb23-4752-b699-ecd2810ecbb1",
   "metadata": {},
   "outputs": [],
   "source": [
    "# sex, embarked and class columns are objects, they will be encoded"
   ]
  },
  {
   "cell_type": "code",
   "execution_count": 32,
   "id": "0ceaa215-4d79-444f-808d-27a8152de49e",
   "metadata": {},
   "outputs": [
    {
     "data": {
      "text/plain": [
       "array([0, 1])"
      ]
     },
     "execution_count": 32,
     "metadata": {},
     "output_type": "execute_result"
    }
   ],
   "source": [
    "# Encoders \n",
    "from sklearn.preprocessing import LabelEncoder\n",
    "le_sex = LabelEncoder()\n",
    "X_train['sex'] = le_sex.fit_transform(X_train['sex'])\n",
    "X_train['sex'].unique()"
   ]
  },
  {
   "cell_type": "code",
   "execution_count": 33,
   "id": "4014b825-12ea-4f8b-9435-29b0347d1304",
   "metadata": {},
   "outputs": [
    {
     "data": {
      "text/plain": [
       "array([0, 2, 1])"
      ]
     },
     "execution_count": 33,
     "metadata": {},
     "output_type": "execute_result"
    }
   ],
   "source": [
    "le_embarked = LabelEncoder()\n",
    "X_train['embarked'] = le_embarked.fit_transform(X_train['embarked'])\n",
    "X_train['embarked'].unique()"
   ]
  },
  {
   "cell_type": "code",
   "execution_count": 34,
   "id": "014225f3-5ec8-47c6-9e78-37255dd00feb",
   "metadata": {},
   "outputs": [
    {
     "data": {
      "text/plain": [
       "array([2, 0, 1])"
      ]
     },
     "execution_count": 34,
     "metadata": {},
     "output_type": "execute_result"
    }
   ],
   "source": [
    "le_class = LabelEncoder()\n",
    "X_train['class'] = le_class.fit_transform(X_train['class'])\n",
    "X_train['class'].unique()"
   ]
  },
  {
   "cell_type": "code",
   "execution_count": 35,
   "id": "7b334007-b099-4365-a762-50af476e7b57",
   "metadata": {},
   "outputs": [],
   "source": [
    "# le_alone = LabelEncoder()\n",
    "# X_train['alone'] = le_alone.fit_transform(X_train['alone'])\n",
    "# X_train['alone'].unique()"
   ]
  },
  {
   "cell_type": "code",
   "execution_count": null,
   "id": "47521443-59d1-4b7d-8b22-7eaf0186520e",
   "metadata": {},
   "outputs": [],
   "source": []
  },
  {
   "cell_type": "code",
   "execution_count": 36,
   "id": "2ea75d35-4b69-4d61-9d07-b67f0d65fc4d",
   "metadata": {},
   "outputs": [],
   "source": [
    "# Regression. Random Forest Regressor "
   ]
  },
  {
   "cell_type": "code",
   "execution_count": 37,
   "id": "dc19ec94-98a3-404b-9e42-7f0cd33ddbce",
   "metadata": {},
   "outputs": [],
   "source": [
    "from sklearn.ensemble import RandomForestRegressor\n",
    "rand_forest_regressor = RandomForestRegressor()"
   ]
  },
  {
   "cell_type": "code",
   "execution_count": 38,
   "id": "23376b42-e089-4eb4-ae4b-993c1e4853a2",
   "metadata": {},
   "outputs": [
    {
     "data": {
      "text/html": [
       "<style>#sk-container-id-1 {color: black;background-color: white;}#sk-container-id-1 pre{padding: 0;}#sk-container-id-1 div.sk-toggleable {background-color: white;}#sk-container-id-1 label.sk-toggleable__label {cursor: pointer;display: block;width: 100%;margin-bottom: 0;padding: 0.3em;box-sizing: border-box;text-align: center;}#sk-container-id-1 label.sk-toggleable__label-arrow:before {content: \"▸\";float: left;margin-right: 0.25em;color: #696969;}#sk-container-id-1 label.sk-toggleable__label-arrow:hover:before {color: black;}#sk-container-id-1 div.sk-estimator:hover label.sk-toggleable__label-arrow:before {color: black;}#sk-container-id-1 div.sk-toggleable__content {max-height: 0;max-width: 0;overflow: hidden;text-align: left;background-color: #f0f8ff;}#sk-container-id-1 div.sk-toggleable__content pre {margin: 0.2em;color: black;border-radius: 0.25em;background-color: #f0f8ff;}#sk-container-id-1 input.sk-toggleable__control:checked~div.sk-toggleable__content {max-height: 200px;max-width: 100%;overflow: auto;}#sk-container-id-1 input.sk-toggleable__control:checked~label.sk-toggleable__label-arrow:before {content: \"▾\";}#sk-container-id-1 div.sk-estimator input.sk-toggleable__control:checked~label.sk-toggleable__label {background-color: #d4ebff;}#sk-container-id-1 div.sk-label input.sk-toggleable__control:checked~label.sk-toggleable__label {background-color: #d4ebff;}#sk-container-id-1 input.sk-hidden--visually {border: 0;clip: rect(1px 1px 1px 1px);clip: rect(1px, 1px, 1px, 1px);height: 1px;margin: -1px;overflow: hidden;padding: 0;position: absolute;width: 1px;}#sk-container-id-1 div.sk-estimator {font-family: monospace;background-color: #f0f8ff;border: 1px dotted black;border-radius: 0.25em;box-sizing: border-box;margin-bottom: 0.5em;}#sk-container-id-1 div.sk-estimator:hover {background-color: #d4ebff;}#sk-container-id-1 div.sk-parallel-item::after {content: \"\";width: 100%;border-bottom: 1px solid gray;flex-grow: 1;}#sk-container-id-1 div.sk-label:hover label.sk-toggleable__label {background-color: #d4ebff;}#sk-container-id-1 div.sk-serial::before {content: \"\";position: absolute;border-left: 1px solid gray;box-sizing: border-box;top: 0;bottom: 0;left: 50%;z-index: 0;}#sk-container-id-1 div.sk-serial {display: flex;flex-direction: column;align-items: center;background-color: white;padding-right: 0.2em;padding-left: 0.2em;position: relative;}#sk-container-id-1 div.sk-item {position: relative;z-index: 1;}#sk-container-id-1 div.sk-parallel {display: flex;align-items: stretch;justify-content: center;background-color: white;position: relative;}#sk-container-id-1 div.sk-item::before, #sk-container-id-1 div.sk-parallel-item::before {content: \"\";position: absolute;border-left: 1px solid gray;box-sizing: border-box;top: 0;bottom: 0;left: 50%;z-index: -1;}#sk-container-id-1 div.sk-parallel-item {display: flex;flex-direction: column;z-index: 1;position: relative;background-color: white;}#sk-container-id-1 div.sk-parallel-item:first-child::after {align-self: flex-end;width: 50%;}#sk-container-id-1 div.sk-parallel-item:last-child::after {align-self: flex-start;width: 50%;}#sk-container-id-1 div.sk-parallel-item:only-child::after {width: 0;}#sk-container-id-1 div.sk-dashed-wrapped {border: 1px dashed gray;margin: 0 0.4em 0.5em 0.4em;box-sizing: border-box;padding-bottom: 0.4em;background-color: white;}#sk-container-id-1 div.sk-label label {font-family: monospace;font-weight: bold;display: inline-block;line-height: 1.2em;}#sk-container-id-1 div.sk-label-container {text-align: center;}#sk-container-id-1 div.sk-container {/* jupyter's `normalize.less` sets `[hidden] { display: none; }` but bootstrap.min.css set `[hidden] { display: none !important; }` so we also need the `!important` here to be able to override the default hidden behavior on the sphinx rendered scikit-learn.org. See: https://github.com/scikit-learn/scikit-learn/issues/21755 */display: inline-block !important;position: relative;}#sk-container-id-1 div.sk-text-repr-fallback {display: none;}</style><div id=\"sk-container-id-1\" class=\"sk-top-container\"><div class=\"sk-text-repr-fallback\"><pre>RandomForestRegressor()</pre><b>In a Jupyter environment, please rerun this cell to show the HTML representation or trust the notebook. <br />On GitHub, the HTML representation is unable to render, please try loading this page with nbviewer.org.</b></div><div class=\"sk-container\" hidden><div class=\"sk-item\"><div class=\"sk-estimator sk-toggleable\"><input class=\"sk-toggleable__control sk-hidden--visually\" id=\"sk-estimator-id-1\" type=\"checkbox\" checked><label for=\"sk-estimator-id-1\" class=\"sk-toggleable__label sk-toggleable__label-arrow\">RandomForestRegressor</label><div class=\"sk-toggleable__content\"><pre>RandomForestRegressor()</pre></div></div></div></div></div>"
      ],
      "text/plain": [
       "RandomForestRegressor()"
      ]
     },
     "execution_count": 38,
     "metadata": {},
     "output_type": "execute_result"
    }
   ],
   "source": [
    "rand_forest_regressor.fit(X_train,y_train.values)"
   ]
  },
  {
   "cell_type": "code",
   "execution_count": 39,
   "id": "f75f1486-ddd8-4268-a4d5-fcce5a5da207",
   "metadata": {},
   "outputs": [
    {
     "data": {
      "text/plain": [
       "{'bootstrap': True,\n",
       " 'ccp_alpha': 0.0,\n",
       " 'criterion': 'squared_error',\n",
       " 'max_depth': None,\n",
       " 'max_features': 1.0,\n",
       " 'max_leaf_nodes': None,\n",
       " 'max_samples': None,\n",
       " 'min_impurity_decrease': 0.0,\n",
       " 'min_samples_leaf': 1,\n",
       " 'min_samples_split': 2,\n",
       " 'min_weight_fraction_leaf': 0.0,\n",
       " 'n_estimators': 100,\n",
       " 'n_jobs': None,\n",
       " 'oob_score': False,\n",
       " 'random_state': None,\n",
       " 'verbose': 0,\n",
       " 'warm_start': False}"
      ]
     },
     "execution_count": 39,
     "metadata": {},
     "output_type": "execute_result"
    }
   ],
   "source": [
    "rand_forest_regressor.get_params()"
   ]
  },
  {
   "cell_type": "code",
   "execution_count": 40,
   "id": "9870c26f-f0f7-4d98-9984-fe58e973029d",
   "metadata": {},
   "outputs": [],
   "source": [
    "y_pred = rand_forest_regressor.predict(X_train)"
   ]
  },
  {
   "cell_type": "code",
   "execution_count": 41,
   "id": "3f921134-646f-4218-974a-afdae1896f56",
   "metadata": {},
   "outputs": [
    {
     "name": "stdout",
     "output_type": "stream",
     "text": [
      "0.17\n"
     ]
    }
   ],
   "source": [
    "from sklearn.metrics import mean_squared_error\n",
    "\n",
    "error = np.sqrt(mean_squared_error(y_train, y_pred))\n",
    "print(\"{:.02f}\".format(error))"
   ]
  },
  {
   "cell_type": "code",
   "execution_count": null,
   "id": "68874a8a-9f20-4f99-90e3-4aed4a263938",
   "metadata": {},
   "outputs": [],
   "source": []
  },
  {
   "cell_type": "markdown",
   "id": "b550e79f-a1c0-47c3-8b2a-5730dda8ed86",
   "metadata": {},
   "source": [
    "# GridCVSearch"
   ]
  },
  {
   "cell_type": "code",
   "execution_count": 42,
   "id": "ae34a193-f2fc-4ab8-a894-89d7bbc3f8fd",
   "metadata": {},
   "outputs": [
    {
     "data": {
      "text/html": [
       "<style>#sk-container-id-2 {color: black;background-color: white;}#sk-container-id-2 pre{padding: 0;}#sk-container-id-2 div.sk-toggleable {background-color: white;}#sk-container-id-2 label.sk-toggleable__label {cursor: pointer;display: block;width: 100%;margin-bottom: 0;padding: 0.3em;box-sizing: border-box;text-align: center;}#sk-container-id-2 label.sk-toggleable__label-arrow:before {content: \"▸\";float: left;margin-right: 0.25em;color: #696969;}#sk-container-id-2 label.sk-toggleable__label-arrow:hover:before {color: black;}#sk-container-id-2 div.sk-estimator:hover label.sk-toggleable__label-arrow:before {color: black;}#sk-container-id-2 div.sk-toggleable__content {max-height: 0;max-width: 0;overflow: hidden;text-align: left;background-color: #f0f8ff;}#sk-container-id-2 div.sk-toggleable__content pre {margin: 0.2em;color: black;border-radius: 0.25em;background-color: #f0f8ff;}#sk-container-id-2 input.sk-toggleable__control:checked~div.sk-toggleable__content {max-height: 200px;max-width: 100%;overflow: auto;}#sk-container-id-2 input.sk-toggleable__control:checked~label.sk-toggleable__label-arrow:before {content: \"▾\";}#sk-container-id-2 div.sk-estimator input.sk-toggleable__control:checked~label.sk-toggleable__label {background-color: #d4ebff;}#sk-container-id-2 div.sk-label input.sk-toggleable__control:checked~label.sk-toggleable__label {background-color: #d4ebff;}#sk-container-id-2 input.sk-hidden--visually {border: 0;clip: rect(1px 1px 1px 1px);clip: rect(1px, 1px, 1px, 1px);height: 1px;margin: -1px;overflow: hidden;padding: 0;position: absolute;width: 1px;}#sk-container-id-2 div.sk-estimator {font-family: monospace;background-color: #f0f8ff;border: 1px dotted black;border-radius: 0.25em;box-sizing: border-box;margin-bottom: 0.5em;}#sk-container-id-2 div.sk-estimator:hover {background-color: #d4ebff;}#sk-container-id-2 div.sk-parallel-item::after {content: \"\";width: 100%;border-bottom: 1px solid gray;flex-grow: 1;}#sk-container-id-2 div.sk-label:hover label.sk-toggleable__label {background-color: #d4ebff;}#sk-container-id-2 div.sk-serial::before {content: \"\";position: absolute;border-left: 1px solid gray;box-sizing: border-box;top: 0;bottom: 0;left: 50%;z-index: 0;}#sk-container-id-2 div.sk-serial {display: flex;flex-direction: column;align-items: center;background-color: white;padding-right: 0.2em;padding-left: 0.2em;position: relative;}#sk-container-id-2 div.sk-item {position: relative;z-index: 1;}#sk-container-id-2 div.sk-parallel {display: flex;align-items: stretch;justify-content: center;background-color: white;position: relative;}#sk-container-id-2 div.sk-item::before, #sk-container-id-2 div.sk-parallel-item::before {content: \"\";position: absolute;border-left: 1px solid gray;box-sizing: border-box;top: 0;bottom: 0;left: 50%;z-index: -1;}#sk-container-id-2 div.sk-parallel-item {display: flex;flex-direction: column;z-index: 1;position: relative;background-color: white;}#sk-container-id-2 div.sk-parallel-item:first-child::after {align-self: flex-end;width: 50%;}#sk-container-id-2 div.sk-parallel-item:last-child::after {align-self: flex-start;width: 50%;}#sk-container-id-2 div.sk-parallel-item:only-child::after {width: 0;}#sk-container-id-2 div.sk-dashed-wrapped {border: 1px dashed gray;margin: 0 0.4em 0.5em 0.4em;box-sizing: border-box;padding-bottom: 0.4em;background-color: white;}#sk-container-id-2 div.sk-label label {font-family: monospace;font-weight: bold;display: inline-block;line-height: 1.2em;}#sk-container-id-2 div.sk-label-container {text-align: center;}#sk-container-id-2 div.sk-container {/* jupyter's `normalize.less` sets `[hidden] { display: none; }` but bootstrap.min.css set `[hidden] { display: none !important; }` so we also need the `!important` here to be able to override the default hidden behavior on the sphinx rendered scikit-learn.org. See: https://github.com/scikit-learn/scikit-learn/issues/21755 */display: inline-block !important;position: relative;}#sk-container-id-2 div.sk-text-repr-fallback {display: none;}</style><div id=\"sk-container-id-2\" class=\"sk-top-container\"><div class=\"sk-text-repr-fallback\"><pre>GridSearchCV(estimator=DecisionTreeRegressor(random_state=0),\n",
       "             param_grid={&#x27;max_depth&#x27;: [None, 2, 4, 6, 8, 10, 12]},\n",
       "             scoring=&#x27;neg_mean_squared_error&#x27;)</pre><b>In a Jupyter environment, please rerun this cell to show the HTML representation or trust the notebook. <br />On GitHub, the HTML representation is unable to render, please try loading this page with nbviewer.org.</b></div><div class=\"sk-container\" hidden><div class=\"sk-item sk-dashed-wrapped\"><div class=\"sk-label-container\"><div class=\"sk-label sk-toggleable\"><input class=\"sk-toggleable__control sk-hidden--visually\" id=\"sk-estimator-id-2\" type=\"checkbox\" ><label for=\"sk-estimator-id-2\" class=\"sk-toggleable__label sk-toggleable__label-arrow\">GridSearchCV</label><div class=\"sk-toggleable__content\"><pre>GridSearchCV(estimator=DecisionTreeRegressor(random_state=0),\n",
       "             param_grid={&#x27;max_depth&#x27;: [None, 2, 4, 6, 8, 10, 12]},\n",
       "             scoring=&#x27;neg_mean_squared_error&#x27;)</pre></div></div></div><div class=\"sk-parallel\"><div class=\"sk-parallel-item\"><div class=\"sk-item\"><div class=\"sk-label-container\"><div class=\"sk-label sk-toggleable\"><input class=\"sk-toggleable__control sk-hidden--visually\" id=\"sk-estimator-id-3\" type=\"checkbox\" ><label for=\"sk-estimator-id-3\" class=\"sk-toggleable__label sk-toggleable__label-arrow\">estimator: DecisionTreeRegressor</label><div class=\"sk-toggleable__content\"><pre>DecisionTreeRegressor(random_state=0)</pre></div></div></div><div class=\"sk-serial\"><div class=\"sk-item\"><div class=\"sk-estimator sk-toggleable\"><input class=\"sk-toggleable__control sk-hidden--visually\" id=\"sk-estimator-id-4\" type=\"checkbox\" ><label for=\"sk-estimator-id-4\" class=\"sk-toggleable__label sk-toggleable__label-arrow\">DecisionTreeRegressor</label><div class=\"sk-toggleable__content\"><pre>DecisionTreeRegressor(random_state=0)</pre></div></div></div></div></div></div></div></div></div></div>"
      ],
      "text/plain": [
       "GridSearchCV(estimator=DecisionTreeRegressor(random_state=0),\n",
       "             param_grid={'max_depth': [None, 2, 4, 6, 8, 10, 12]},\n",
       "             scoring='neg_mean_squared_error')"
      ]
     },
     "execution_count": 42,
     "metadata": {},
     "output_type": "execute_result"
    }
   ],
   "source": [
    "from sklearn.tree import DecisionTreeRegressor\n",
    "from sklearn.model_selection import GridSearchCV\n",
    "\n",
    "max_depth = [None, 2,4,6,8,10,12]\n",
    "parameters = {\"max_depth\": max_depth}\n",
    "\n",
    "regressor =  DecisionTreeRegressor(random_state=0)\n",
    "gs = GridSearchCV(regressor, parameters, scoring=\"neg_mean_squared_error\")\n",
    "gs.fit(X_train, y_train.values)"
   ]
  },
  {
   "cell_type": "code",
   "execution_count": 43,
   "id": "db2df550-f75a-4fd3-b87a-a7ca010f6cbb",
   "metadata": {},
   "outputs": [
    {
     "name": "stdout",
     "output_type": "stream",
     "text": [
      "0.34\n"
     ]
    }
   ],
   "source": [
    "regresor_best = gs.best_estimator_\n",
    "\n",
    "regresor_best.fit(X_train, y_train.values)\n",
    "y_pred = regresor_best.predict(X_train)\n",
    "error = np.sqrt(mean_squared_error(y_train, y_pred))\n",
    "print(\"{:.02f}\".format(error))"
   ]
  },
  {
   "cell_type": "markdown",
   "id": "82cacd2e-99ce-4168-aab8-aabb463da4d6",
   "metadata": {},
   "source": [
    "## Testing with test set"
   ]
  },
  {
   "cell_type": "code",
   "execution_count": 44,
   "id": "0cb0c141-0c18-4e44-8add-23755b054dbe",
   "metadata": {},
   "outputs": [
    {
     "data": {
      "text/html": [
       "<div>\n",
       "<style scoped>\n",
       "    .dataframe tbody tr th:only-of-type {\n",
       "        vertical-align: middle;\n",
       "    }\n",
       "\n",
       "    .dataframe tbody tr th {\n",
       "        vertical-align: top;\n",
       "    }\n",
       "\n",
       "    .dataframe thead th {\n",
       "        text-align: right;\n",
       "    }\n",
       "</style>\n",
       "<table border=\"1\" class=\"dataframe\">\n",
       "  <thead>\n",
       "    <tr style=\"text-align: right;\">\n",
       "      <th></th>\n",
       "      <th>pclass</th>\n",
       "      <th>sex</th>\n",
       "      <th>age</th>\n",
       "      <th>fare</th>\n",
       "      <th>embarked</th>\n",
       "      <th>class</th>\n",
       "    </tr>\n",
       "  </thead>\n",
       "  <tbody>\n",
       "    <tr>\n",
       "      <th>811</th>\n",
       "      <td>3</td>\n",
       "      <td>male</td>\n",
       "      <td>39.0</td>\n",
       "      <td>24.1500</td>\n",
       "      <td>S</td>\n",
       "      <td>Third</td>\n",
       "    </tr>\n",
       "    <tr>\n",
       "      <th>514</th>\n",
       "      <td>3</td>\n",
       "      <td>male</td>\n",
       "      <td>24.0</td>\n",
       "      <td>7.4958</td>\n",
       "      <td>S</td>\n",
       "      <td>Third</td>\n",
       "    </tr>\n",
       "    <tr>\n",
       "      <th>786</th>\n",
       "      <td>3</td>\n",
       "      <td>female</td>\n",
       "      <td>18.0</td>\n",
       "      <td>7.4958</td>\n",
       "      <td>S</td>\n",
       "      <td>Third</td>\n",
       "    </tr>\n",
       "    <tr>\n",
       "      <th>591</th>\n",
       "      <td>1</td>\n",
       "      <td>female</td>\n",
       "      <td>52.0</td>\n",
       "      <td>78.2667</td>\n",
       "      <td>C</td>\n",
       "      <td>First</td>\n",
       "    </tr>\n",
       "    <tr>\n",
       "      <th>561</th>\n",
       "      <td>3</td>\n",
       "      <td>male</td>\n",
       "      <td>40.0</td>\n",
       "      <td>7.8958</td>\n",
       "      <td>S</td>\n",
       "      <td>Third</td>\n",
       "    </tr>\n",
       "  </tbody>\n",
       "</table>\n",
       "</div>"
      ],
      "text/plain": [
       "     pclass     sex   age     fare embarked  class\n",
       "811       3    male  39.0  24.1500        S  Third\n",
       "514       3    male  24.0   7.4958        S  Third\n",
       "786       3  female  18.0   7.4958        S  Third\n",
       "591       1  female  52.0  78.2667        C  First\n",
       "561       3    male  40.0   7.8958        S  Third"
      ]
     },
     "execution_count": 44,
     "metadata": {},
     "output_type": "execute_result"
    }
   ],
   "source": [
    "X_test.head()"
   ]
  },
  {
   "cell_type": "code",
   "execution_count": 45,
   "id": "b6006d91-82f1-41f2-9518-5826ca028f7d",
   "metadata": {},
   "outputs": [],
   "source": [
    "X_test['sex'] = le_sex.fit_transform(X_test['sex'])\n",
    "X_test['embarked'] = le_embarked.fit_transform(X_test['embarked'])\n",
    "X_test['class'] = le_class.fit_transform(X_test['class'])\n",
    "# X_test['alone'] = le_alone.fit_transform(X_test['alone'])"
   ]
  },
  {
   "cell_type": "code",
   "execution_count": 46,
   "id": "8adebff2-7e5d-43f2-b2e0-56cf5d0970d5",
   "metadata": {},
   "outputs": [],
   "source": [
    "y_pred = regresor_best.predict(X_test)"
   ]
  },
  {
   "cell_type": "code",
   "execution_count": 47,
   "id": "feec0229-c86c-41c2-aa4e-a5ef5e79cf8c",
   "metadata": {},
   "outputs": [
    {
     "name": "stdout",
     "output_type": "stream",
     "text": [
      "0.37\n"
     ]
    }
   ],
   "source": [
    "error = np.sqrt(mean_squared_error(y_test, y_pred))\n",
    "print(\"{:.02f}\".format(error))"
   ]
  },
  {
   "cell_type": "code",
   "execution_count": 48,
   "id": "11acb8ae-5268-4469-a8c2-7a4e0d936141",
   "metadata": {},
   "outputs": [],
   "source": [
    "# random forest model \n",
    "y_pred_2 = rand_forest_regressor.predict(X_test)"
   ]
  },
  {
   "cell_type": "code",
   "execution_count": 49,
   "id": "6e4d5023-a2e2-4c17-bbe8-0b5928843190",
   "metadata": {},
   "outputs": [
    {
     "name": "stdout",
     "output_type": "stream",
     "text": [
      "0.38\n"
     ]
    }
   ],
   "source": [
    "error = np.sqrt(mean_squared_error(y_test, y_pred_2))\n",
    "print(\"{:.02f}\".format(error))"
   ]
  },
  {
   "cell_type": "code",
   "execution_count": null,
   "id": "2dfe26e0-5cc4-4ff9-a7e0-df5df237cecb",
   "metadata": {},
   "outputs": [],
   "source": []
  },
  {
   "cell_type": "code",
   "execution_count": 50,
   "id": "b2b99793-96a0-45d4-be7e-a0d09f92b01d",
   "metadata": {},
   "outputs": [],
   "source": [
    "# new value"
   ]
  },
  {
   "cell_type": "code",
   "execution_count": 51,
   "id": "1906e924-4b7f-41f3-9dd6-8b853283e2e0",
   "metadata": {},
   "outputs": [
    {
     "data": {
      "text/plain": [
       "Index(['pclass', 'sex', 'age', 'fare', 'embarked', 'class'], dtype='object')"
      ]
     },
     "execution_count": 51,
     "metadata": {},
     "output_type": "execute_result"
    }
   ],
   "source": [
    "X_test.columns"
   ]
  },
  {
   "cell_type": "code",
   "execution_count": 52,
   "id": "b3f28c68-bf22-4aea-8ef2-edd21dd35434",
   "metadata": {},
   "outputs": [],
   "source": [
    "# 'pclass', 'sex', 'age', 'fare', 'embarked', 'class'\n",
    "\n",
    "new_value = [2, 'female', 35, 70, 'S', 'First']"
   ]
  },
  {
   "cell_type": "code",
   "execution_count": 53,
   "id": "b8add99f-1e10-4339-8726-f1a8e2c354c4",
   "metadata": {},
   "outputs": [
    {
     "data": {
      "text/plain": [
       "[2, 'female', 35, 70, 'S', 'First']"
      ]
     },
     "execution_count": 53,
     "metadata": {},
     "output_type": "execute_result"
    }
   ],
   "source": [
    "new_value"
   ]
  },
  {
   "cell_type": "code",
   "execution_count": 54,
   "id": "d6487c9d-b1af-4a90-869a-aa537860e00a",
   "metadata": {},
   "outputs": [],
   "source": [
    "# convert to an array\n",
    "nw_val_arr = np.array([new_value]) "
   ]
  },
  {
   "cell_type": "code",
   "execution_count": 55,
   "id": "9677725c-2a6a-4c25-be1f-b2af0f54d5f6",
   "metadata": {},
   "outputs": [
    {
     "data": {
      "text/plain": [
       "array([['2', 'female', '35', '70', 'S', 'First']], dtype='<U11')"
      ]
     },
     "execution_count": 55,
     "metadata": {},
     "output_type": "execute_result"
    }
   ],
   "source": [
    "nw_val_arr"
   ]
  },
  {
   "cell_type": "code",
   "execution_count": 56,
   "id": "6bfb405a-cd34-482c-81a6-5e3b20a0d1e3",
   "metadata": {},
   "outputs": [
    {
     "name": "stdout",
     "output_type": "stream",
     "text": [
      "['2']\n",
      "['female']\n",
      "['35']\n",
      "['70']\n",
      "['S']\n",
      "['First']\n"
     ]
    }
   ],
   "source": [
    "print(nw_val_arr[:,0])\n",
    "print(nw_val_arr[:,1])\n",
    "print(nw_val_arr[:,2])\n",
    "print(nw_val_arr[:,3])\n",
    "print(nw_val_arr[:,4])\n",
    "print(nw_val_arr[:,5])"
   ]
  },
  {
   "cell_type": "code",
   "execution_count": 57,
   "id": "5272f901-42f3-4e4a-b215-63f229a1a98e",
   "metadata": {},
   "outputs": [
    {
     "data": {
      "text/plain": [
       "array([[ 2.,  0., 35., 70.,  2.,  0.]])"
      ]
     },
     "execution_count": 57,
     "metadata": {},
     "output_type": "execute_result"
    }
   ],
   "source": [
    "# do the label encoding \n",
    "nw_val_arr[:,1] = le_sex.transform(nw_val_arr[:,1])\n",
    "nw_val_arr[:,4] = le_embarked.transform(nw_val_arr[:,4])\n",
    "nw_val_arr[:,5] = le_class.transform(nw_val_arr[:,5])\n",
    "nw_val_arr = nw_val_arr.astype(float)\n",
    "nw_val_arr"
   ]
  },
  {
   "cell_type": "code",
   "execution_count": 58,
   "id": "459262fe-2acf-4381-b1b1-b4e79b1d205d",
   "metadata": {},
   "outputs": [],
   "source": [
    "# predict"
   ]
  },
  {
   "cell_type": "code",
   "execution_count": 59,
   "id": "d80f3603-1118-4285-860f-5f7fde90c0f5",
   "metadata": {},
   "outputs": [
    {
     "name": "stderr",
     "output_type": "stream",
     "text": [
      "C:\\_anaconda3_11_2021\\envs\\mlenv\\lib\\site-packages\\sklearn\\base.py:450: UserWarning: X does not have valid feature names, but RandomForestRegressor was fitted with feature names\n",
      "  warnings.warn(\n"
     ]
    }
   ],
   "source": [
    "y_pred_3 = rand_forest_regressor.predict(nw_val_arr)"
   ]
  },
  {
   "cell_type": "code",
   "execution_count": 60,
   "id": "f974e584-59ad-4007-93d6-997ff4415047",
   "metadata": {},
   "outputs": [
    {
     "data": {
      "text/plain": [
       "array([1.])"
      ]
     },
     "execution_count": 60,
     "metadata": {},
     "output_type": "execute_result"
    }
   ],
   "source": [
    "y_pred_3"
   ]
  },
  {
   "cell_type": "code",
   "execution_count": 61,
   "id": "e15f9f9d-0f1c-4762-958e-9eed2ec6ec0d",
   "metadata": {},
   "outputs": [],
   "source": [
    "# 1 means survived, 0 means died"
   ]
  },
  {
   "cell_type": "code",
   "execution_count": null,
   "id": "178d3a70-eac9-4f8d-b175-8587405b563b",
   "metadata": {},
   "outputs": [],
   "source": []
  }
 ],
 "metadata": {
  "kernelspec": {
   "display_name": "Python 3 (ipykernel)",
   "language": "python",
   "name": "python3"
  },
  "language_info": {
   "codemirror_mode": {
    "name": "ipython",
    "version": 3
   },
   "file_extension": ".py",
   "mimetype": "text/x-python",
   "name": "python",
   "nbconvert_exporter": "python",
   "pygments_lexer": "ipython3",
   "version": "3.9.7"
  }
 },
 "nbformat": 4,
 "nbformat_minor": 5
}
